{
 "cells": [
  {
   "cell_type": "markdown",
   "metadata": {},
   "source": [
    "# USL FINAL EXAM"
   ]
  },
  {
   "cell_type": "markdown",
   "metadata": {},
   "source": [
    "### Dataset Information: \n",
    "These data were aggregated from a number of sources including the American Community Survey (census.gov), clinicaltrials.gov, and cancer.gov"
   ]
  },
  {
   "cell_type": "markdown",
   "metadata": {},
   "source": [
    "### ATTRIBUTES:\n",
    "\n",
    "avgAnnCount: Mean number of reported cases of cancer diagnosed annually\n",
    "\n",
    "avgDeathsPerYear: Mean number of reported mortalities due to cancer\n",
    "\n",
    "incidenceRate: Mean per capita (100,000) cancer diagoses\n",
    "\n",
    "medianIncome: Median income per county \n",
    "\n",
    "popEst2015: Population of county\n",
    "\n",
    "povertyPercent: Percent of populace in poverty\n",
    "\n",
    "studyPerCap: Per capita number of cancer-related clinical trials per county\n",
    "\n",
    "MedianAge: Median age of county residents\n",
    "\n",
    "MedianAgeMale: Median age of male county residents\n",
    "\n",
    "MedianAgeFemale: Median age of female county residents\n",
    "\n",
    "Geography: County name\n",
    "\n",
    "AvgHouseholdSize: Mean household size of county\n",
    "\n",
    "PercentMarried: Percent of county residents who are married\n",
    "\n",
    "PctNoHS18_24: Percent of county residents ages 18-24 highest education attained: less than high school\n",
    "\n",
    "PctHS18_24: Percent of county residents ages 18-24 highest education attained: high school diploma\n",
    "\n",
    "PctSomeCol18_24: Percent of county residents ages 18-24 highest education attained: some college \n",
    "\n",
    "PctBachDeg18_24: Percent of county residents ages 18-24 highest education attained: bachelor's degree\n",
    "\n",
    "PctHS25_Over: Percent of county residents ages 25 and over highest education attained: high school diploma\n",
    "\n",
    "PctBachDeg25_Over: Percent of county residents ages 25 and over highest education attained: bachelor's degree\n",
    "\n",
    "PctEmployed16_Over: Percent of county residents ages 16 and over employed\n",
    "\n",
    "PctUnemployed16_Over: Percent of county residents ages 16 and over unemployed\n",
    "\n",
    "PctPrivateCoverage: Percent of county residents with private health coverage\n",
    "\n",
    "PctPrivateCoverageAlone: Percent of county residents with private health coverage alone (no public assistance)\n",
    "\n",
    "PctEmpPrivCoverage: Percent of county residents with employee-provided private health coverage\n",
    "\n",
    "PctPublicCoverage: Percent of county residents with government-provided health coverage\n",
    "\n",
    "PctPubliceCoverageAlone: Percent of county residents with government-provided health coverage alone \n",
    "\n",
    "PctWhite: Percent of county residents who identify as White\n",
    "\n",
    "PctBlack: Percent of county residents who identify as Black\n",
    "\n",
    "PctAsian: Percent of county residents who identify as Asian\n",
    "\n",
    "PctOtherRace: Percent of county residents who identify in a category which is not White, Black, or Asian\n",
    "\n",
    "PctMarriedHouseholds: Percent of married households\n",
    "\n",
    "BirthRate: Number of live births relative to number of women in county"
   ]
  },
  {
   "cell_type": "code",
   "execution_count": null,
   "metadata": {
    "colab_type": "raw",
    "id": "wEgYP9-oW0cg"
   },
   "outputs": [],
   "source": [
    "## Kindly change the below cells from markdown to code and execute it "
   ]
  },
  {
   "cell_type": "code",
   "execution_count": 1,
   "metadata": {
    "colab_type": "raw",
    "id": "VQ_WA9jKW0ch"
   },
   "outputs": [
    {
     "data": {
      "text/html": [
       "<div>\n",
       "<style scoped>\n",
       "    .dataframe tbody tr th:only-of-type {\n",
       "        vertical-align: middle;\n",
       "    }\n",
       "\n",
       "    .dataframe tbody tr th {\n",
       "        vertical-align: top;\n",
       "    }\n",
       "\n",
       "    .dataframe thead th {\n",
       "        text-align: right;\n",
       "    }\n",
       "</style>\n",
       "<table border=\"1\" class=\"dataframe\">\n",
       "  <thead>\n",
       "    <tr style=\"text-align: right;\">\n",
       "      <th></th>\n",
       "      <th>avgAnnCount</th>\n",
       "      <th>avgDeathsPerYear</th>\n",
       "      <th>TARGET_deathRate</th>\n",
       "      <th>incidenceRate</th>\n",
       "      <th>medIncome</th>\n",
       "      <th>popEst2015</th>\n",
       "      <th>povertyPercent</th>\n",
       "      <th>studyPerCap</th>\n",
       "      <th>MedianAge</th>\n",
       "      <th>MedianAgeMale</th>\n",
       "      <th>...</th>\n",
       "      <th>PctPrivateCoverageAlone</th>\n",
       "      <th>PctEmpPrivCoverage</th>\n",
       "      <th>PctPublicCoverage</th>\n",
       "      <th>PctPublicCoverageAlone</th>\n",
       "      <th>PctWhite</th>\n",
       "      <th>PctBlack</th>\n",
       "      <th>PctAsian</th>\n",
       "      <th>PctOtherRace</th>\n",
       "      <th>PctMarriedHouseholds</th>\n",
       "      <th>BirthRate</th>\n",
       "    </tr>\n",
       "  </thead>\n",
       "  <tbody>\n",
       "    <tr>\n",
       "      <th>0</th>\n",
       "      <td>1397.0</td>\n",
       "      <td>469</td>\n",
       "      <td>164.9</td>\n",
       "      <td>489.8</td>\n",
       "      <td>61898</td>\n",
       "      <td>260131</td>\n",
       "      <td>11.2</td>\n",
       "      <td>499.748204</td>\n",
       "      <td>39.3</td>\n",
       "      <td>36.9</td>\n",
       "      <td>...</td>\n",
       "      <td>NaN</td>\n",
       "      <td>41.6</td>\n",
       "      <td>32.9</td>\n",
       "      <td>14.0</td>\n",
       "      <td>81.780529</td>\n",
       "      <td>2.594728</td>\n",
       "      <td>4.821857</td>\n",
       "      <td>1.843479</td>\n",
       "      <td>52.856076</td>\n",
       "      <td>6.118831</td>\n",
       "    </tr>\n",
       "    <tr>\n",
       "      <th>1</th>\n",
       "      <td>173.0</td>\n",
       "      <td>70</td>\n",
       "      <td>161.3</td>\n",
       "      <td>411.6</td>\n",
       "      <td>48127</td>\n",
       "      <td>43269</td>\n",
       "      <td>18.6</td>\n",
       "      <td>23.111234</td>\n",
       "      <td>33.0</td>\n",
       "      <td>32.2</td>\n",
       "      <td>...</td>\n",
       "      <td>53.8</td>\n",
       "      <td>43.6</td>\n",
       "      <td>31.1</td>\n",
       "      <td>15.3</td>\n",
       "      <td>89.228509</td>\n",
       "      <td>0.969102</td>\n",
       "      <td>2.246233</td>\n",
       "      <td>3.741352</td>\n",
       "      <td>45.372500</td>\n",
       "      <td>4.333096</td>\n",
       "    </tr>\n",
       "    <tr>\n",
       "      <th>2</th>\n",
       "      <td>102.0</td>\n",
       "      <td>50</td>\n",
       "      <td>174.7</td>\n",
       "      <td>349.7</td>\n",
       "      <td>49348</td>\n",
       "      <td>21026</td>\n",
       "      <td>14.6</td>\n",
       "      <td>47.560164</td>\n",
       "      <td>45.0</td>\n",
       "      <td>44.0</td>\n",
       "      <td>...</td>\n",
       "      <td>43.5</td>\n",
       "      <td>34.9</td>\n",
       "      <td>42.1</td>\n",
       "      <td>21.1</td>\n",
       "      <td>90.922190</td>\n",
       "      <td>0.739673</td>\n",
       "      <td>0.465898</td>\n",
       "      <td>2.747358</td>\n",
       "      <td>54.444868</td>\n",
       "      <td>3.729488</td>\n",
       "    </tr>\n",
       "    <tr>\n",
       "      <th>3</th>\n",
       "      <td>427.0</td>\n",
       "      <td>202</td>\n",
       "      <td>194.8</td>\n",
       "      <td>430.4</td>\n",
       "      <td>44243</td>\n",
       "      <td>75882</td>\n",
       "      <td>17.1</td>\n",
       "      <td>342.637253</td>\n",
       "      <td>42.8</td>\n",
       "      <td>42.2</td>\n",
       "      <td>...</td>\n",
       "      <td>40.3</td>\n",
       "      <td>35.0</td>\n",
       "      <td>45.3</td>\n",
       "      <td>25.0</td>\n",
       "      <td>91.744686</td>\n",
       "      <td>0.782626</td>\n",
       "      <td>1.161359</td>\n",
       "      <td>1.362643</td>\n",
       "      <td>51.021514</td>\n",
       "      <td>4.603841</td>\n",
       "    </tr>\n",
       "    <tr>\n",
       "      <th>4</th>\n",
       "      <td>57.0</td>\n",
       "      <td>26</td>\n",
       "      <td>144.4</td>\n",
       "      <td>350.1</td>\n",
       "      <td>49955</td>\n",
       "      <td>10321</td>\n",
       "      <td>12.5</td>\n",
       "      <td>0.000000</td>\n",
       "      <td>48.3</td>\n",
       "      <td>47.8</td>\n",
       "      <td>...</td>\n",
       "      <td>43.9</td>\n",
       "      <td>35.1</td>\n",
       "      <td>44.0</td>\n",
       "      <td>22.7</td>\n",
       "      <td>94.104024</td>\n",
       "      <td>0.270192</td>\n",
       "      <td>0.665830</td>\n",
       "      <td>0.492135</td>\n",
       "      <td>54.027460</td>\n",
       "      <td>6.796657</td>\n",
       "    </tr>\n",
       "  </tbody>\n",
       "</table>\n",
       "<p>5 rows × 33 columns</p>\n",
       "</div>"
      ],
      "text/plain": [
       "   avgAnnCount  avgDeathsPerYear  TARGET_deathRate  incidenceRate  medIncome  \\\n",
       "0       1397.0               469             164.9          489.8      61898   \n",
       "1        173.0                70             161.3          411.6      48127   \n",
       "2        102.0                50             174.7          349.7      49348   \n",
       "3        427.0               202             194.8          430.4      44243   \n",
       "4         57.0                26             144.4          350.1      49955   \n",
       "\n",
       "   popEst2015  povertyPercent  studyPerCap  MedianAge  MedianAgeMale  ...  \\\n",
       "0      260131            11.2   499.748204       39.3           36.9  ...   \n",
       "1       43269            18.6    23.111234       33.0           32.2  ...   \n",
       "2       21026            14.6    47.560164       45.0           44.0  ...   \n",
       "3       75882            17.1   342.637253       42.8           42.2  ...   \n",
       "4       10321            12.5     0.000000       48.3           47.8  ...   \n",
       "\n",
       "   PctPrivateCoverageAlone PctEmpPrivCoverage  PctPublicCoverage  \\\n",
       "0                      NaN               41.6               32.9   \n",
       "1                     53.8               43.6               31.1   \n",
       "2                     43.5               34.9               42.1   \n",
       "3                     40.3               35.0               45.3   \n",
       "4                     43.9               35.1               44.0   \n",
       "\n",
       "   PctPublicCoverageAlone   PctWhite  PctBlack  PctAsian  PctOtherRace  \\\n",
       "0                    14.0  81.780529  2.594728  4.821857      1.843479   \n",
       "1                    15.3  89.228509  0.969102  2.246233      3.741352   \n",
       "2                    21.1  90.922190  0.739673  0.465898      2.747358   \n",
       "3                    25.0  91.744686  0.782626  1.161359      1.362643   \n",
       "4                    22.7  94.104024  0.270192  0.665830      0.492135   \n",
       "\n",
       "   PctMarriedHouseholds  BirthRate  \n",
       "0             52.856076   6.118831  \n",
       "1             45.372500   4.333096  \n",
       "2             54.444868   3.729488  \n",
       "3             51.021514   4.603841  \n",
       "4             54.027460   6.796657  \n",
       "\n",
       "[5 rows x 33 columns]"
      ]
     },
     "execution_count": 1,
     "metadata": {},
     "output_type": "execute_result"
    }
   ],
   "source": [
    "import pandas as pd\n",
    "\n",
    "import csv\n",
    "\n",
    "with open(\"data_set.csv\",\"r\")as file:\n",
    "    \n",
    "    reader=csv.reader(file)\n",
    "\n",
    "df=pd.read_csv(\"data_set.csv\")\n",
    "\n",
    "df.head()\n"
   ]
  },
  {
   "cell_type": "markdown",
   "metadata": {},
   "source": [
    "### 1.\tData Understanding (5 marks)\n",
    "\n",
    "a.\tRead the dataset (tab, csv, xls, txt, inbuilt dataset). Print the number of rows, cols and types of variables (continuous, categorical etc.)? (1 MARK)\n",
    "\n",
    "b.\tCalculate five-point summary for numerical variables (1 MARK)\n",
    "\n",
    "c.\tSummarize observations for categorical variables – no. of categories, % observations in each category.  (1 MARK)\n",
    "\n",
    "d.\tGenerate the covariance and correlation tables for the data (1 MARK)\n",
    "\n",
    "e.\tCreate Visualization plots to find the relationship amongst the variables. (1 MARK)\n"
   ]
  },
  {
   "cell_type": "code",
   "execution_count": null,
   "metadata": {},
   "outputs": [],
   "source": [
    "# a,\n",
    "\n",
    "df.info()"
   ]
  },
  {
   "cell_type": "markdown",
   "metadata": {},
   "source": [
    "* There are total of 33 columns, out of which 32 are numerical and one is categorical."
   ]
  },
  {
   "cell_type": "code",
   "execution_count": null,
   "metadata": {},
   "outputs": [],
   "source": [
    "print('Numerical columns: ')\n",
    "print(list(df.select_dtypes(exclude='object').columns))"
   ]
  },
  {
   "cell_type": "code",
   "execution_count": null,
   "metadata": {},
   "outputs": [],
   "source": [
    "print('Categorical column: ')\n",
    "print(list(df.select_dtypes(include='object').columns))"
   ]
  },
  {
   "cell_type": "code",
   "execution_count": null,
   "metadata": {},
   "outputs": [],
   "source": [
    "# b,\n",
    "\n",
    "df.describe()"
   ]
  },
  {
   "cell_type": "markdown",
   "metadata": {},
   "source": [
    "c,\n",
    "\n",
    "* From the above analysis we have found that, \" Geography \" is the only categorical feature we have in our dataset."
   ]
  },
  {
   "cell_type": "code",
   "execution_count": null,
   "metadata": {},
   "outputs": [],
   "source": [
    "print(df['Geography'].value_counts(normalize = True)*100)"
   ]
  },
  {
   "cell_type": "markdown",
   "metadata": {},
   "source": [
    "* It is found that there are 3047 different counties present in our dataset."
   ]
  },
  {
   "cell_type": "code",
   "execution_count": 2,
   "metadata": {},
   "outputs": [
    {
     "data": {
      "text/plain": [
       "array([[           nan,            nan,            nan, ...,\n",
       "                   nan,            nan,            nan],\n",
       "       [           nan, 1.26405306e+08,            nan, ...,\n",
       "        1.19096167e+08,            nan, 1.08007585e+08],\n",
       "       [           nan,            nan,            nan, ...,\n",
       "                   nan,            nan,            nan],\n",
       "       ...,\n",
       "       [           nan, 1.19096167e+08,            nan, ...,\n",
       "        1.14762524e+08,            nan, 1.01860633e+08],\n",
       "       [           nan,            nan,            nan, ...,\n",
       "                   nan,            nan,            nan],\n",
       "       [           nan, 1.08007585e+08,            nan, ...,\n",
       "        1.01860633e+08,            nan, 9.23899594e+07]])"
      ]
     },
     "execution_count": 2,
     "metadata": {},
     "output_type": "execute_result"
    }
   ],
   "source": [
    "# d,\n",
    "\n",
    "# Covariance\n",
    "\n",
    "import numpy as np\n",
    "\n",
    "np.cov(df.select_dtypes(exclude= 'object'))"
   ]
  },
  {
   "cell_type": "code",
   "execution_count": null,
   "metadata": {},
   "outputs": [],
   "source": [
    "# correlation\n",
    "\n",
    "df.corr()"
   ]
  },
  {
   "cell_type": "code",
   "execution_count": null,
   "metadata": {},
   "outputs": [],
   "source": [
    "# e,\n",
    "\n",
    "import seaborn as sns\n",
    "import matplotlib.pyplot as plt\n",
    "import warnings\n",
    "warnings.filterwarnings('ignore')\n",
    "\n",
    "sns.pairplot(df, diag_kind= 'kde')\n",
    "plt.show()"
   ]
  },
  {
   "cell_type": "markdown",
   "metadata": {},
   "source": [
    "* Pairplot tells us the relationship between all the features in a dataset.\n",
    "* We can clearly see that few features are having strong linear relationship among them, and few are normally distributed."
   ]
  },
  {
   "cell_type": "code",
   "execution_count": null,
   "metadata": {},
   "outputs": [],
   "source": [
    "plt.figure(figsize=(18,12))\n",
    "\n",
    "sns.heatmap(df.corr(), annot= True)\n",
    "plt.show()"
   ]
  },
  {
   "cell_type": "markdown",
   "metadata": {},
   "source": [
    "* We can confirm from this heatmap that many features are strongly correlated."
   ]
  },
  {
   "cell_type": "code",
   "execution_count": null,
   "metadata": {},
   "outputs": [],
   "source": []
  },
  {
   "cell_type": "markdown",
   "metadata": {},
   "source": [
    "### 2.\tData Preparation (5 marks)\n",
    "\n",
    "a.\tScale / Transform/ clean the data so that it is suitable for model building.\n"
   ]
  },
  {
   "cell_type": "markdown",
   "metadata": {},
   "source": [
    "* From our previous analysis we have found that, \" Geography \" features has 3047 unique records. It is not going to help us in our analaysis, hence we are dropping it"
   ]
  },
  {
   "cell_type": "code",
   "execution_count": null,
   "metadata": {},
   "outputs": [],
   "source": [
    "df.isna().sum()/len(df) * 100"
   ]
  },
  {
   "cell_type": "markdown",
   "metadata": {},
   "source": [
    "* *PctSomeCol18_24*  have high percentage of NULL values in them. It makes no sense in imputing that high percentage of NULL values, hence we are dropping it from our dataset.\n",
    "\n",
    "* From the earlier analysis we have founud that *Geography* also has 3047 unique values, which again doesn't fit for our analysis, hence dropping it too."
   ]
  },
  {
   "cell_type": "code",
   "execution_count": 3,
   "metadata": {},
   "outputs": [],
   "source": [
    "df = df.drop( columns= ['PctSomeCol18_24', 'Geography'])"
   ]
  },
  {
   "cell_type": "markdown",
   "metadata": {},
   "source": [
    "* *PctPrivateCoverageAlone* and *PctEmployed16_Over* has less percentage of NULL records. We are imputing the NULL values."
   ]
  },
  {
   "cell_type": "code",
   "execution_count": null,
   "metadata": {},
   "outputs": [],
   "source": [
    "df[['PctPrivateCoverageAlone','PctEmployed16_Over']].describe()"
   ]
  },
  {
   "cell_type": "markdown",
   "metadata": {},
   "source": [
    "* The value of mean and median is very close which confirms that the distibution is Normal, hence we are good to do *Median* imputation"
   ]
  },
  {
   "cell_type": "code",
   "execution_count": 4,
   "metadata": {},
   "outputs": [],
   "source": [
    "df['PctEmployed16_Over'] = df['PctEmployed16_Over'].replace(np.nan, df['PctEmployed16_Over'].median())\n",
    "df['PctPrivateCoverageAlone'] = df['PctPrivateCoverageAlone'].replace(np.nan, df['PctPrivateCoverageAlone'].median())"
   ]
  },
  {
   "cell_type": "code",
   "execution_count": 5,
   "metadata": {},
   "outputs": [
    {
     "data": {
      "text/plain": [
       "avgAnnCount                0\n",
       "avgDeathsPerYear           0\n",
       "TARGET_deathRate           0\n",
       "incidenceRate              0\n",
       "medIncome                  0\n",
       "popEst2015                 0\n",
       "povertyPercent             0\n",
       "studyPerCap                0\n",
       "MedianAge                  0\n",
       "MedianAgeMale              0\n",
       "MedianAgeFemale            0\n",
       "AvgHouseholdSize           0\n",
       "PercentMarried             0\n",
       "PctNoHS18_24               0\n",
       "PctHS18_24                 0\n",
       "PctBachDeg18_24            0\n",
       "PctHS25_Over               0\n",
       "PctBachDeg25_Over          0\n",
       "PctEmployed16_Over         0\n",
       "PctUnemployed16_Over       0\n",
       "PctPrivateCoverage         0\n",
       "PctPrivateCoverageAlone    0\n",
       "PctEmpPrivCoverage         0\n",
       "PctPublicCoverage          0\n",
       "PctPublicCoverageAlone     0\n",
       "PctWhite                   0\n",
       "PctBlack                   0\n",
       "PctAsian                   0\n",
       "PctOtherRace               0\n",
       "PctMarriedHouseholds       0\n",
       "BirthRate                  0\n",
       "dtype: int64"
      ]
     },
     "execution_count": 5,
     "metadata": {},
     "output_type": "execute_result"
    }
   ],
   "source": [
    "df.isna().sum()"
   ]
  },
  {
   "cell_type": "markdown",
   "metadata": {},
   "source": [
    "* We have imputed the NULL values successfully, now the dataset has No NULL values"
   ]
  },
  {
   "cell_type": "code",
   "execution_count": null,
   "metadata": {},
   "outputs": [],
   "source": [
    "df.skew()"
   ]
  },
  {
   "cell_type": "markdown",
   "metadata": {},
   "source": [
    "* Few features are very highly skewed, hence we are using OUTLIER TREATMENT to transform them."
   ]
  },
  {
   "cell_type": "code",
   "execution_count": 6,
   "metadata": {},
   "outputs": [
    {
     "name": "stderr",
     "output_type": "stream",
     "text": [
      "/home/deploy/anaconda3/lib/python3.7/site-packages/sklearn/preprocessing/_data.py:2995: RuntimeWarning: divide by zero encountered in log\n",
      "  loglike = -n_samples / 2 * np.log(x_trans.var())\n"
     ]
    }
   ],
   "source": [
    "from sklearn.preprocessing import PowerTransformer\n",
    "\n",
    "pt = PowerTransformer()\n",
    "df_transformed = pt.fit_transform(df)\n",
    "df_t = pd.DataFrame(df_transformed, columns= df.columns)"
   ]
  },
  {
   "cell_type": "code",
   "execution_count": 7,
   "metadata": {},
   "outputs": [
    {
     "data": {
      "text/html": [
       "<div>\n",
       "<style scoped>\n",
       "    .dataframe tbody tr th:only-of-type {\n",
       "        vertical-align: middle;\n",
       "    }\n",
       "\n",
       "    .dataframe tbody tr th {\n",
       "        vertical-align: top;\n",
       "    }\n",
       "\n",
       "    .dataframe thead th {\n",
       "        text-align: right;\n",
       "    }\n",
       "</style>\n",
       "<table border=\"1\" class=\"dataframe\">\n",
       "  <thead>\n",
       "    <tr style=\"text-align: right;\">\n",
       "      <th></th>\n",
       "      <th>avgAnnCount</th>\n",
       "      <th>avgDeathsPerYear</th>\n",
       "      <th>TARGET_deathRate</th>\n",
       "      <th>incidenceRate</th>\n",
       "      <th>medIncome</th>\n",
       "      <th>popEst2015</th>\n",
       "      <th>povertyPercent</th>\n",
       "      <th>studyPerCap</th>\n",
       "      <th>MedianAge</th>\n",
       "      <th>MedianAgeMale</th>\n",
       "      <th>...</th>\n",
       "      <th>PctPrivateCoverageAlone</th>\n",
       "      <th>PctEmpPrivCoverage</th>\n",
       "      <th>PctPublicCoverage</th>\n",
       "      <th>PctPublicCoverageAlone</th>\n",
       "      <th>PctWhite</th>\n",
       "      <th>PctBlack</th>\n",
       "      <th>PctAsian</th>\n",
       "      <th>PctOtherRace</th>\n",
       "      <th>PctMarriedHouseholds</th>\n",
       "      <th>BirthRate</th>\n",
       "    </tr>\n",
       "  </thead>\n",
       "  <tbody>\n",
       "    <tr>\n",
       "      <th>0</th>\n",
       "      <td>1.311163</td>\n",
       "      <td>1.431345</td>\n",
       "      <td>-0.477143</td>\n",
       "      <td>0.768097</td>\n",
       "      <td>0.0</td>\n",
       "      <td>0.0</td>\n",
       "      <td>-0.904326</td>\n",
       "      <td>1.486820</td>\n",
       "      <td>-0.149629</td>\n",
       "      <td>-0.500398</td>\n",
       "      <td>...</td>\n",
       "      <td>0.015419</td>\n",
       "      <td>0.063709</td>\n",
       "      <td>-0.426969</td>\n",
       "      <td>-0.840065</td>\n",
       "      <td>-0.481739</td>\n",
       "      <td>-0.012356</td>\n",
       "      <td>1.788773</td>\n",
       "      <td>0.665047</td>\n",
       "      <td>0.191224</td>\n",
       "      <td>0.334707</td>\n",
       "    </tr>\n",
       "    <tr>\n",
       "      <th>1</th>\n",
       "      <td>-0.052475</td>\n",
       "      <td>0.096054</td>\n",
       "      <td>-0.610498</td>\n",
       "      <td>-0.665048</td>\n",
       "      <td>0.0</td>\n",
       "      <td>0.0</td>\n",
       "      <td>0.416240</td>\n",
       "      <td>0.946991</td>\n",
       "      <td>-1.472562</td>\n",
       "      <td>-1.424896</td>\n",
       "      <td>...</td>\n",
       "      <td>0.583852</td>\n",
       "      <td>0.273383</td>\n",
       "      <td>-0.656694</td>\n",
       "      <td>-0.599427</td>\n",
       "      <td>0.181337</td>\n",
       "      <td>-0.658668</td>\n",
       "      <td>1.288550</td>\n",
       "      <td>1.246120</td>\n",
       "      <td>-0.930748</td>\n",
       "      <td>-0.627944</td>\n",
       "    </tr>\n",
       "  </tbody>\n",
       "</table>\n",
       "<p>2 rows × 31 columns</p>\n",
       "</div>"
      ],
      "text/plain": [
       "   avgAnnCount  avgDeathsPerYear  TARGET_deathRate  incidenceRate  medIncome  \\\n",
       "0     1.311163          1.431345         -0.477143       0.768097        0.0   \n",
       "1    -0.052475          0.096054         -0.610498      -0.665048        0.0   \n",
       "\n",
       "   popEst2015  povertyPercent  studyPerCap  MedianAge  MedianAgeMale  ...  \\\n",
       "0         0.0       -0.904326     1.486820  -0.149629      -0.500398  ...   \n",
       "1         0.0        0.416240     0.946991  -1.472562      -1.424896  ...   \n",
       "\n",
       "   PctPrivateCoverageAlone  PctEmpPrivCoverage  PctPublicCoverage  \\\n",
       "0                 0.015419            0.063709          -0.426969   \n",
       "1                 0.583852            0.273383          -0.656694   \n",
       "\n",
       "   PctPublicCoverageAlone  PctWhite  PctBlack  PctAsian  PctOtherRace  \\\n",
       "0               -0.840065 -0.481739 -0.012356  1.788773      0.665047   \n",
       "1               -0.599427  0.181337 -0.658668  1.288550      1.246120   \n",
       "\n",
       "   PctMarriedHouseholds  BirthRate  \n",
       "0              0.191224   0.334707  \n",
       "1             -0.930748  -0.627944  \n",
       "\n",
       "[2 rows x 31 columns]"
      ]
     },
     "execution_count": 7,
     "metadata": {},
     "output_type": "execute_result"
    }
   ],
   "source": [
    "# It is not necessary to scaled the data after doing power transformation, also there is nothing wrong in doing it. \n",
    "\n",
    "from sklearn.preprocessing import StandardScaler\n",
    "\n",
    "ss = StandardScaler()\n",
    "x_scaled = ss.fit_transform(df_t)\n",
    "x_scaled = pd.DataFrame(df_t, columns = df_t.columns)\n",
    "x_scaled.head(2)"
   ]
  },
  {
   "cell_type": "markdown",
   "metadata": {},
   "source": [
    "* Now our dataframe is ready for modelling"
   ]
  },
  {
   "cell_type": "markdown",
   "metadata": {},
   "source": [
    "### 3.\tDimensionality Reduction (15 marks)\n",
    "\n",
    "a.\tHow will you decide when to apply PCA based on the correlation? (2 marks) \n",
    "\n",
    "b.\tApply PCA on the above dataset and determine the number of PCA components to be used so that 90% of the variance in data is explained by the same. (7 marks)\n",
    "\n",
    "c.\tBuild a data frame with the principal components and check if multi-collinearity still exists. ( 2  marks).\n",
    "\n",
    "d.\tVisualize the spread of data across PCA components. (2 marks)\n",
    "\n",
    "e.\tCheck for outliers in the PCA data and treat the same. (2 marks)\n"
   ]
  },
  {
   "cell_type": "code",
   "execution_count": null,
   "metadata": {},
   "outputs": [],
   "source": [
    "# a,\n",
    "\n",
    "plt.figure(figsize=(20,12))\n",
    "\n",
    "sns.heatmap(x_scaled.corr(), annot = True)\n",
    "plt.show()"
   ]
  },
  {
   "cell_type": "markdown",
   "metadata": {},
   "source": [
    "* We observe thaht there is high *MULTI COLLINEARITY* present in the dataset. ALso the number of features is more, hence we go for PCA\n",
    "\n",
    "* PCA helps us with dimensionality reduction and also reduces the multi collinearity."
   ]
  },
  {
   "cell_type": "code",
   "execution_count": 8,
   "metadata": {},
   "outputs": [
    {
     "data": {
      "text/plain": [
       "array([8.62309850e+00, 5.81875153e+00, 2.72727091e+00, 1.79333164e+00,\n",
       "       1.37407711e+00, 1.05199325e+00, 9.40112560e-01, 7.79567202e-01,\n",
       "       6.90370829e-01, 6.17555721e-01, 5.67328679e-01, 5.37932367e-01,\n",
       "       4.81471696e-01, 4.10590757e-01, 3.82210956e-01, 3.65813722e-01,\n",
       "       3.19884420e-01, 2.69116568e-01, 2.18657220e-01, 1.81767133e-01,\n",
       "       1.67499082e-01, 1.50820351e-01, 1.31020380e-01, 1.09326377e-01,\n",
       "       1.04234538e-01, 7.75371135e-02, 5.45263448e-02, 4.62290862e-02,\n",
       "       1.74246396e-02, 1.70060632e-30, 3.19918686e-32])"
      ]
     },
     "execution_count": 8,
     "metadata": {},
     "output_type": "execute_result"
    }
   ],
   "source": [
    "# b, Applying PCA\n",
    "\n",
    "from sklearn.decomposition import PCA\n",
    "\n",
    "pca = PCA()\n",
    "x_pca = pca.fit_transform(x_scaled)\n",
    "\n",
    "pca.explained_variance_"
   ]
  },
  {
   "cell_type": "code",
   "execution_count": 9,
   "metadata": {},
   "outputs": [
    {
     "data": {
      "text/plain": [
       "array([0.29725064, 0.49783139, 0.59184435, 0.65366308, 0.7010295 ,\n",
       "       0.73729322, 0.76970026, 0.79657306, 0.82037114, 0.84165918,\n",
       "       0.86121581, 0.87975912, 0.89635614, 0.9105098 , 0.92368516,\n",
       "       0.93629528, 0.94732216, 0.956599  , 0.96413643, 0.9704022 ,\n",
       "       0.97617614, 0.98137513, 0.98589159, 0.98966023, 0.99325335,\n",
       "       0.99592616, 0.99780576, 0.99939935, 1.        , 1.        ,\n",
       "       1.        ])"
      ]
     },
     "execution_count": 9,
     "metadata": {},
     "output_type": "execute_result"
    }
   ],
   "source": [
    "np.cumsum(pca.explained_variance_ratio_)"
   ]
  },
  {
   "cell_type": "markdown",
   "metadata": {},
   "source": [
    "* With just 14 PCA components we are good to explaoin approximately 91% of the variance in the dataset."
   ]
  },
  {
   "cell_type": "code",
   "execution_count": 10,
   "metadata": {},
   "outputs": [
    {
     "data": {
      "text/html": [
       "<div>\n",
       "<style scoped>\n",
       "    .dataframe tbody tr th:only-of-type {\n",
       "        vertical-align: middle;\n",
       "    }\n",
       "\n",
       "    .dataframe tbody tr th {\n",
       "        vertical-align: top;\n",
       "    }\n",
       "\n",
       "    .dataframe thead th {\n",
       "        text-align: right;\n",
       "    }\n",
       "</style>\n",
       "<table border=\"1\" class=\"dataframe\">\n",
       "  <thead>\n",
       "    <tr style=\"text-align: right;\">\n",
       "      <th></th>\n",
       "      <th>PC1</th>\n",
       "      <th>PC2</th>\n",
       "      <th>PC3</th>\n",
       "      <th>PC4</th>\n",
       "      <th>PC5</th>\n",
       "      <th>PC6</th>\n",
       "      <th>PC7</th>\n",
       "      <th>PC8</th>\n",
       "      <th>PC9</th>\n",
       "      <th>PC10</th>\n",
       "      <th>PC11</th>\n",
       "      <th>PC12</th>\n",
       "      <th>PC13</th>\n",
       "      <th>PC14</th>\n",
       "    </tr>\n",
       "  </thead>\n",
       "  <tbody>\n",
       "    <tr>\n",
       "      <th>0</th>\n",
       "      <td>2.512642</td>\n",
       "      <td>1.942595</td>\n",
       "      <td>-1.182224</td>\n",
       "      <td>-0.862325</td>\n",
       "      <td>-1.523052</td>\n",
       "      <td>0.393501</td>\n",
       "      <td>-0.293962</td>\n",
       "      <td>0.789151</td>\n",
       "      <td>0.951664</td>\n",
       "      <td>0.314512</td>\n",
       "      <td>-0.811723</td>\n",
       "      <td>0.202345</td>\n",
       "      <td>0.054990</td>\n",
       "      <td>-0.117927</td>\n",
       "    </tr>\n",
       "    <tr>\n",
       "      <th>1</th>\n",
       "      <td>2.479273</td>\n",
       "      <td>2.882878</td>\n",
       "      <td>0.489908</td>\n",
       "      <td>-0.764699</td>\n",
       "      <td>1.955978</td>\n",
       "      <td>1.333319</td>\n",
       "      <td>1.054194</td>\n",
       "      <td>0.681565</td>\n",
       "      <td>0.565006</td>\n",
       "      <td>-0.882572</td>\n",
       "      <td>-0.327510</td>\n",
       "      <td>0.940775</td>\n",
       "      <td>0.154947</td>\n",
       "      <td>0.270573</td>\n",
       "    </tr>\n",
       "  </tbody>\n",
       "</table>\n",
       "</div>"
      ],
      "text/plain": [
       "        PC1       PC2       PC3       PC4       PC5       PC6       PC7  \\\n",
       "0  2.512642  1.942595 -1.182224 -0.862325 -1.523052  0.393501 -0.293962   \n",
       "1  2.479273  2.882878  0.489908 -0.764699  1.955978  1.333319  1.054194   \n",
       "\n",
       "        PC8       PC9      PC10      PC11      PC12      PC13      PC14  \n",
       "0  0.789151  0.951664  0.314512 -0.811723  0.202345  0.054990 -0.117927  \n",
       "1  0.681565  0.565006 -0.882572 -0.327510  0.940775  0.154947  0.270573  "
      ]
     },
     "execution_count": 10,
     "metadata": {},
     "output_type": "execute_result"
    }
   ],
   "source": [
    "# c,\n",
    "\n",
    "pca = PCA(n_components= 14)\n",
    "cols = ['PC1','PC2','PC3','PC4','PC5','PC6','PC7','PC8','PC9','PC10','PC11','PC12','PC13','PC14',]\n",
    "x_pca = pd.DataFrame(pca.fit_transform(x_scaled), columns= cols)\n",
    "x_pca.head(2)"
   ]
  },
  {
   "cell_type": "code",
   "execution_count": null,
   "metadata": {},
   "outputs": [],
   "source": [
    "plt.figure(figsize=(16,12))\n",
    "sns.heatmap(x_pca.corr(), annot = True)\n",
    "plt.show()"
   ]
  },
  {
   "cell_type": "markdown",
   "metadata": {},
   "source": [
    "* There is NO multi-collinearity in the dataset now. Almost all the PCA components are equally correlated. \n",
    "\n",
    "*PCA has shown its effectiveness !*"
   ]
  },
  {
   "cell_type": "code",
   "execution_count": 11,
   "metadata": {},
   "outputs": [
    {
     "data": {
      "text/html": [
       "<div>\n",
       "<style scoped>\n",
       "    .dataframe tbody tr th:only-of-type {\n",
       "        vertical-align: middle;\n",
       "    }\n",
       "\n",
       "    .dataframe tbody tr th {\n",
       "        vertical-align: top;\n",
       "    }\n",
       "\n",
       "    .dataframe thead th {\n",
       "        text-align: right;\n",
       "    }\n",
       "</style>\n",
       "<table border=\"1\" class=\"dataframe\">\n",
       "  <thead>\n",
       "    <tr style=\"text-align: right;\">\n",
       "      <th></th>\n",
       "      <th>PC1</th>\n",
       "      <th>PC2</th>\n",
       "      <th>PC3</th>\n",
       "      <th>PC4</th>\n",
       "      <th>PC5</th>\n",
       "      <th>PC6</th>\n",
       "      <th>PC7</th>\n",
       "      <th>PC8</th>\n",
       "      <th>PC9</th>\n",
       "      <th>PC10</th>\n",
       "      <th>PC11</th>\n",
       "      <th>PC12</th>\n",
       "      <th>PC13</th>\n",
       "      <th>PC14</th>\n",
       "    </tr>\n",
       "  </thead>\n",
       "  <tbody>\n",
       "    <tr>\n",
       "      <th>count</th>\n",
       "      <td>3.047000e+03</td>\n",
       "      <td>3.047000e+03</td>\n",
       "      <td>3.047000e+03</td>\n",
       "      <td>3.047000e+03</td>\n",
       "      <td>3.047000e+03</td>\n",
       "      <td>3.047000e+03</td>\n",
       "      <td>3.047000e+03</td>\n",
       "      <td>3.047000e+03</td>\n",
       "      <td>3.047000e+03</td>\n",
       "      <td>3.047000e+03</td>\n",
       "      <td>3.047000e+03</td>\n",
       "      <td>3.047000e+03</td>\n",
       "      <td>3.047000e+03</td>\n",
       "      <td>3.047000e+03</td>\n",
       "    </tr>\n",
       "    <tr>\n",
       "      <th>mean</th>\n",
       "      <td>-7.775569e-17</td>\n",
       "      <td>-1.588636e-17</td>\n",
       "      <td>-1.039172e-16</td>\n",
       "      <td>-4.707608e-17</td>\n",
       "      <td>-2.004013e-18</td>\n",
       "      <td>2.150670e-17</td>\n",
       "      <td>9.659341e-17</td>\n",
       "      <td>-4.671171e-17</td>\n",
       "      <td>-8.147222e-17</td>\n",
       "      <td>-5.669534e-17</td>\n",
       "      <td>-6.149017e-17</td>\n",
       "      <td>3.082536e-17</td>\n",
       "      <td>-7.498651e-17</td>\n",
       "      <td>-5.494638e-17</td>\n",
       "    </tr>\n",
       "    <tr>\n",
       "      <th>std</th>\n",
       "      <td>2.936511e+00</td>\n",
       "      <td>2.412209e+00</td>\n",
       "      <td>1.651445e+00</td>\n",
       "      <td>1.339153e+00</td>\n",
       "      <td>1.172210e+00</td>\n",
       "      <td>1.025667e+00</td>\n",
       "      <td>9.695940e-01</td>\n",
       "      <td>8.829310e-01</td>\n",
       "      <td>8.308856e-01</td>\n",
       "      <td>7.858471e-01</td>\n",
       "      <td>7.532122e-01</td>\n",
       "      <td>7.334387e-01</td>\n",
       "      <td>6.938814e-01</td>\n",
       "      <td>6.407734e-01</td>\n",
       "    </tr>\n",
       "    <tr>\n",
       "      <th>min</th>\n",
       "      <td>-9.200133e+00</td>\n",
       "      <td>-7.240658e+00</td>\n",
       "      <td>-4.456847e+00</td>\n",
       "      <td>-6.991200e+00</td>\n",
       "      <td>-3.749429e+00</td>\n",
       "      <td>-4.006595e+00</td>\n",
       "      <td>-4.329650e+00</td>\n",
       "      <td>-5.377865e+00</td>\n",
       "      <td>-3.266339e+00</td>\n",
       "      <td>-3.058078e+00</td>\n",
       "      <td>-2.917862e+00</td>\n",
       "      <td>-4.092009e+00</td>\n",
       "      <td>-3.258354e+00</td>\n",
       "      <td>-3.947191e+00</td>\n",
       "    </tr>\n",
       "    <tr>\n",
       "      <th>25%</th>\n",
       "      <td>-2.087242e+00</td>\n",
       "      <td>-1.734693e+00</td>\n",
       "      <td>-1.066416e+00</td>\n",
       "      <td>-7.373569e-01</td>\n",
       "      <td>-7.847171e-01</td>\n",
       "      <td>-6.349253e-01</td>\n",
       "      <td>-5.683442e-01</td>\n",
       "      <td>-4.825118e-01</td>\n",
       "      <td>-5.088880e-01</td>\n",
       "      <td>-5.061932e-01</td>\n",
       "      <td>-4.928271e-01</td>\n",
       "      <td>-4.295575e-01</td>\n",
       "      <td>-4.296940e-01</td>\n",
       "      <td>-3.886482e-01</td>\n",
       "    </tr>\n",
       "    <tr>\n",
       "      <th>50%</th>\n",
       "      <td>2.135356e-02</td>\n",
       "      <td>-1.454799e-01</td>\n",
       "      <td>-2.089856e-01</td>\n",
       "      <td>6.856189e-02</td>\n",
       "      <td>-1.341905e-01</td>\n",
       "      <td>3.621017e-02</td>\n",
       "      <td>-8.479534e-03</td>\n",
       "      <td>-1.760782e-02</td>\n",
       "      <td>-4.202007e-02</td>\n",
       "      <td>-4.585575e-03</td>\n",
       "      <td>3.935275e-02</td>\n",
       "      <td>-9.314119e-03</td>\n",
       "      <td>-1.110681e-02</td>\n",
       "      <td>-6.784708e-03</td>\n",
       "    </tr>\n",
       "    <tr>\n",
       "      <th>75%</th>\n",
       "      <td>2.064588e+00</td>\n",
       "      <td>1.600976e+00</td>\n",
       "      <td>7.892227e-01</td>\n",
       "      <td>8.890988e-01</td>\n",
       "      <td>6.836303e-01</td>\n",
       "      <td>6.832255e-01</td>\n",
       "      <td>5.724450e-01</td>\n",
       "      <td>4.805556e-01</td>\n",
       "      <td>4.649185e-01</td>\n",
       "      <td>4.885119e-01</td>\n",
       "      <td>5.258859e-01</td>\n",
       "      <td>4.177082e-01</td>\n",
       "      <td>4.247966e-01</td>\n",
       "      <td>3.876458e-01</td>\n",
       "    </tr>\n",
       "    <tr>\n",
       "      <th>max</th>\n",
       "      <td>9.855631e+00</td>\n",
       "      <td>7.303828e+00</td>\n",
       "      <td>7.089920e+00</td>\n",
       "      <td>8.061208e+00</td>\n",
       "      <td>6.088236e+00</td>\n",
       "      <td>4.279401e+00</td>\n",
       "      <td>5.415540e+00</td>\n",
       "      <td>5.641263e+00</td>\n",
       "      <td>7.345800e+00</td>\n",
       "      <td>3.846198e+00</td>\n",
       "      <td>3.860928e+00</td>\n",
       "      <td>4.441875e+00</td>\n",
       "      <td>3.432360e+00</td>\n",
       "      <td>4.287987e+00</td>\n",
       "    </tr>\n",
       "  </tbody>\n",
       "</table>\n",
       "</div>"
      ],
      "text/plain": [
       "                PC1           PC2           PC3           PC4           PC5  \\\n",
       "count  3.047000e+03  3.047000e+03  3.047000e+03  3.047000e+03  3.047000e+03   \n",
       "mean  -7.775569e-17 -1.588636e-17 -1.039172e-16 -4.707608e-17 -2.004013e-18   \n",
       "std    2.936511e+00  2.412209e+00  1.651445e+00  1.339153e+00  1.172210e+00   \n",
       "min   -9.200133e+00 -7.240658e+00 -4.456847e+00 -6.991200e+00 -3.749429e+00   \n",
       "25%   -2.087242e+00 -1.734693e+00 -1.066416e+00 -7.373569e-01 -7.847171e-01   \n",
       "50%    2.135356e-02 -1.454799e-01 -2.089856e-01  6.856189e-02 -1.341905e-01   \n",
       "75%    2.064588e+00  1.600976e+00  7.892227e-01  8.890988e-01  6.836303e-01   \n",
       "max    9.855631e+00  7.303828e+00  7.089920e+00  8.061208e+00  6.088236e+00   \n",
       "\n",
       "                PC6           PC7           PC8           PC9          PC10  \\\n",
       "count  3.047000e+03  3.047000e+03  3.047000e+03  3.047000e+03  3.047000e+03   \n",
       "mean   2.150670e-17  9.659341e-17 -4.671171e-17 -8.147222e-17 -5.669534e-17   \n",
       "std    1.025667e+00  9.695940e-01  8.829310e-01  8.308856e-01  7.858471e-01   \n",
       "min   -4.006595e+00 -4.329650e+00 -5.377865e+00 -3.266339e+00 -3.058078e+00   \n",
       "25%   -6.349253e-01 -5.683442e-01 -4.825118e-01 -5.088880e-01 -5.061932e-01   \n",
       "50%    3.621017e-02 -8.479534e-03 -1.760782e-02 -4.202007e-02 -4.585575e-03   \n",
       "75%    6.832255e-01  5.724450e-01  4.805556e-01  4.649185e-01  4.885119e-01   \n",
       "max    4.279401e+00  5.415540e+00  5.641263e+00  7.345800e+00  3.846198e+00   \n",
       "\n",
       "               PC11          PC12          PC13          PC14  \n",
       "count  3.047000e+03  3.047000e+03  3.047000e+03  3.047000e+03  \n",
       "mean  -6.149017e-17  3.082536e-17 -7.498651e-17 -5.494638e-17  \n",
       "std    7.532122e-01  7.334387e-01  6.938814e-01  6.407734e-01  \n",
       "min   -2.917862e+00 -4.092009e+00 -3.258354e+00 -3.947191e+00  \n",
       "25%   -4.928271e-01 -4.295575e-01 -4.296940e-01 -3.886482e-01  \n",
       "50%    3.935275e-02 -9.314119e-03 -1.110681e-02 -6.784708e-03  \n",
       "75%    5.258859e-01  4.177082e-01  4.247966e-01  3.876458e-01  \n",
       "max    3.860928e+00  4.441875e+00  3.432360e+00  4.287987e+00  "
      ]
     },
     "execution_count": 11,
     "metadata": {},
     "output_type": "execute_result"
    }
   ],
   "source": [
    "# d,\n",
    "\n",
    "x_pca.describe()"
   ]
  },
  {
   "cell_type": "code",
   "execution_count": null,
   "metadata": {},
   "outputs": [],
   "source": [
    "for i in x_pca.columns:\n",
    "    sns.boxplot(x_pca[i])\n",
    "    plt.show()"
   ]
  },
  {
   "cell_type": "code",
   "execution_count": null,
   "metadata": {},
   "outputs": [],
   "source": []
  },
  {
   "cell_type": "code",
   "execution_count": null,
   "metadata": {},
   "outputs": [],
   "source": [
    "# e,\n",
    "\n"
   ]
  },
  {
   "cell_type": "code",
   "execution_count": null,
   "metadata": {},
   "outputs": [],
   "source": [
    "import seaborn as sns\n",
    "\n",
    "for i in x_pca.columns:\n",
    "    sns.distplot(x_pca[i])\n",
    "    plt.show()"
   ]
  },
  {
   "cell_type": "code",
   "execution_count": null,
   "metadata": {},
   "outputs": [],
   "source": [
    "x_pca.skew()"
   ]
  },
  {
   "cell_type": "code",
   "execution_count": null,
   "metadata": {},
   "outputs": [],
   "source": []
  },
  {
   "cell_type": "code",
   "execution_count": null,
   "metadata": {},
   "outputs": [],
   "source": []
  },
  {
   "cell_type": "markdown",
   "metadata": {},
   "source": [
    "### 4.\tClustering: Use PCA dimensions to cluster the data. Apply K-means and Agglomerative clustering. (30 Marks)\n",
    "\n",
    "Some pointers which would help you, but don’t be limited by these\n",
    "\n",
    "a.\tApply Clustering and visualize the spread of data (15 marks)\n",
    "\n",
    "b.  Find the optimal number of cluster Value. (8 marks)\n",
    "\n",
    "c.\tEvaluate the clusters formed using appropriate metrics (inertia, silhouette score) to support the model built and compare both the models. (5 marks)\n",
    "\n",
    "d.\tUsing best attributes based on the relationship between them, plot the clusters. (2 marks)\n"
   ]
  },
  {
   "cell_type": "code",
   "execution_count": 12,
   "metadata": {},
   "outputs": [
    {
     "data": {
      "text/html": [
       "<div>\n",
       "<style scoped>\n",
       "    .dataframe tbody tr th:only-of-type {\n",
       "        vertical-align: middle;\n",
       "    }\n",
       "\n",
       "    .dataframe tbody tr th {\n",
       "        vertical-align: top;\n",
       "    }\n",
       "\n",
       "    .dataframe thead th {\n",
       "        text-align: right;\n",
       "    }\n",
       "</style>\n",
       "<table border=\"1\" class=\"dataframe\">\n",
       "  <thead>\n",
       "    <tr style=\"text-align: right;\">\n",
       "      <th></th>\n",
       "      <th>no_of_clusters</th>\n",
       "      <th>Inertia</th>\n",
       "    </tr>\n",
       "  </thead>\n",
       "  <tbody>\n",
       "    <tr>\n",
       "      <th>0</th>\n",
       "      <td>1</td>\n",
       "      <td>80455.375312</td>\n",
       "    </tr>\n",
       "    <tr>\n",
       "      <th>1</th>\n",
       "      <td>2</td>\n",
       "      <td>63137.047024</td>\n",
       "    </tr>\n",
       "    <tr>\n",
       "      <th>2</th>\n",
       "      <td>3</td>\n",
       "      <td>53996.650615</td>\n",
       "    </tr>\n",
       "    <tr>\n",
       "      <th>3</th>\n",
       "      <td>4</td>\n",
       "      <td>49616.629651</td>\n",
       "    </tr>\n",
       "    <tr>\n",
       "      <th>4</th>\n",
       "      <td>5</td>\n",
       "      <td>46746.034466</td>\n",
       "    </tr>\n",
       "    <tr>\n",
       "      <th>5</th>\n",
       "      <td>6</td>\n",
       "      <td>44493.544437</td>\n",
       "    </tr>\n",
       "    <tr>\n",
       "      <th>6</th>\n",
       "      <td>7</td>\n",
       "      <td>42350.857075</td>\n",
       "    </tr>\n",
       "    <tr>\n",
       "      <th>7</th>\n",
       "      <td>8</td>\n",
       "      <td>40900.898001</td>\n",
       "    </tr>\n",
       "    <tr>\n",
       "      <th>8</th>\n",
       "      <td>9</td>\n",
       "      <td>39536.733045</td>\n",
       "    </tr>\n",
       "  </tbody>\n",
       "</table>\n",
       "</div>"
      ],
      "text/plain": [
       "   no_of_clusters       Inertia\n",
       "0               1  80455.375312\n",
       "1               2  63137.047024\n",
       "2               3  53996.650615\n",
       "3               4  49616.629651\n",
       "4               5  46746.034466\n",
       "5               6  44493.544437\n",
       "6               7  42350.857075\n",
       "7               8  40900.898001\n",
       "8               9  39536.733045"
      ]
     },
     "execution_count": 12,
     "metadata": {},
     "output_type": "execute_result"
    }
   ],
   "source": [
    "# Applying clustering\n",
    "\n",
    "from sklearn.cluster import KMeans\n",
    "inertia = []\n",
    "for cluster in range(1,10):\n",
    "    kmeans = KMeans(n_clusters= cluster, n_init= 15, random_state= 0)\n",
    "    kmeans.fit(x_pca)\n",
    "    inertia.append(kmeans.inertia_)\n",
    "\n",
    "clusters_df = pd.DataFrame({'no_of_clusters': range(1,10), 'Inertia': inertia})\n",
    "clusters_df"
   ]
  },
  {
   "cell_type": "code",
   "execution_count": null,
   "metadata": {},
   "outputs": [],
   "source": [
    "# Elbow plot\n",
    "import matplotlib.pyplot as plt\n",
    "\n",
    "plt.figure(figsize=(15,5))\n",
    "plt.plot(clusters_df.no_of_clusters, clusters_df.Inertia, marker='*')\n",
    "plt.show()"
   ]
  },
  {
   "cell_type": "markdown",
   "metadata": {},
   "source": [
    "* From the kmeans clustering we can say that, 3 clusters is good as there is continuous line beyond that.\n",
    "* Similarly, n_clusters = 2 also works fine. We may need to tradeoff between them.\n",
    "\n",
    "To compare them we check for inertia and silhouette_score"
   ]
  },
  {
   "cell_type": "code",
   "execution_count": 13,
   "metadata": {},
   "outputs": [
    {
     "name": "stdout",
     "output_type": "stream",
     "text": [
      "centroid values\n",
      "[[-2.40244765e+00  4.19994394e-02 -1.36158483e-02 -2.38893636e-02\n",
      "  -6.80271111e-02 -3.86721372e-02  4.20818940e-02 -1.49105729e-03\n",
      "   2.18129940e-02  3.13081257e-02  2.12016163e-02  2.68121752e-02\n",
      "   1.73560984e-02 -1.55903723e-02]\n",
      " [ 2.36024461e+00 -4.12616483e-02  1.33766629e-02  2.34697066e-02\n",
      "   6.68321000e-02  3.79927959e-02 -4.13426544e-02  1.46486435e-03\n",
      "  -2.14298119e-02 -3.07581456e-02 -2.08291741e-02 -2.63411741e-02\n",
      "  -1.70512092e-02  1.53165011e-02]]\n"
     ]
    }
   ],
   "source": [
    "# We first check for n_clusters = 2\n",
    "kmeans_2 = KMeans(n_clusters= 2, n_init = 15, random_state= 0)\n",
    "kmeans_2.fit(x_pca)\n",
    "\n",
    "labels = kmeans_2.predict(x_pca)\n",
    "\n",
    "centroids = kmeans_2.cluster_centers_\n",
    "\n",
    "print('centroid values')\n",
    "print(centroids)"
   ]
  },
  {
   "cell_type": "code",
   "execution_count": 14,
   "metadata": {},
   "outputs": [
    {
     "name": "stdout",
     "output_type": "stream",
     "text": [
      "Inertia for 2 clusters\n",
      "63137.0470241405\n"
     ]
    }
   ],
   "source": [
    "print('Inertia for 2 clusters')\n",
    "print(kmeans_2.inertia_)"
   ]
  },
  {
   "cell_type": "code",
   "execution_count": 15,
   "metadata": {},
   "outputs": [
    {
     "name": "stdout",
     "output_type": "stream",
     "text": [
      "Silhouette score for 2 clusters is 0.19091710933210584\n"
     ]
    }
   ],
   "source": [
    "from sklearn import metrics\n",
    "\n",
    "print('Silhouette score for 2 clusters is',metrics.silhouette_score(x_pca, kmeans_2.labels_))"
   ]
  },
  {
   "cell_type": "code",
   "execution_count": 29,
   "metadata": {},
   "outputs": [
    {
     "name": "stdout",
     "output_type": "stream",
     "text": [
      "centroid values\n",
      "[[ 1.12870438 -2.05931275  0.1462634   0.1113886   0.10962646  0.02778319\n",
      "  -0.08566435  0.00785089 -0.03816641 -0.0651508   0.06571859 -0.04576322\n",
      "  -0.06247767  0.03767673]\n",
      " [ 2.72922907  2.383041   -0.32013695 -0.11933274 -0.04524266  0.09278814\n",
      "   0.07700201  0.06460197  0.02166962  0.0283885  -0.10264344  0.01158614\n",
      "   0.01770834 -0.04151353]\n",
      " [-2.897753    0.36804502  0.07466279 -0.02629892 -0.0741212  -0.08843713\n",
      "   0.03009448 -0.05063342  0.02185118  0.04304736  0.0060219   0.03581896\n",
      "   0.04763835 -0.00812737]]\n"
     ]
    }
   ],
   "source": [
    "#n_clusters = 3\n",
    "\n",
    "kmeans_3 = KMeans(n_clusters= 3, n_init= 15, random_state= 0)\n",
    "kmeans_3.fit(x_pca)\n",
    "\n",
    "labels = k_means.predict(x_pca)\n",
    "\n",
    "centroids = k_means.cluster_centers_\n",
    "\n",
    "print('centroid values')\n",
    "print(centroids)"
   ]
  },
  {
   "cell_type": "code",
   "execution_count": null,
   "metadata": {},
   "outputs": [],
   "source": [
    "print('Inertia for 3 clusters')\n",
    "print(kmeans_3.inertia_)"
   ]
  },
  {
   "cell_type": "code",
   "execution_count": null,
   "metadata": {},
   "outputs": [],
   "source": [
    "print('Silhouette score for 3 clusters is',metrics.silhouette_score(x_pca, kmeans_3.labels_))"
   ]
  },
  {
   "cell_type": "markdown",
   "metadata": {},
   "source": [
    "Though the silhouette score is slightly better for n_clusters = 2 comapred to n_clusters =3, we prefer to choose n_clusters=3.\n",
    "\n",
    "It is because, it has good inertia score comapred to n_clusters=2, which is very important while clustering.\n",
    "We need to do a tradeoff between n_clusters and slihouette score. In that way we conclude that 3 clusters is good for this dataset."
   ]
  },
  {
   "cell_type": "code",
   "execution_count": null,
   "metadata": {},
   "outputs": [],
   "source": []
  },
  {
   "cell_type": "code",
   "execution_count": 30,
   "metadata": {},
   "outputs": [],
   "source": [
    "# Agglomerative clustering\n",
    "\n",
    "from sklearn.cluster import AgglomerativeClustering"
   ]
  },
  {
   "cell_type": "code",
   "execution_count": 41,
   "metadata": {},
   "outputs": [
    {
     "data": {
      "text/plain": [
       "AgglomerativeClustering(n_clusters=3)"
      ]
     },
     "execution_count": 41,
     "metadata": {},
     "output_type": "execute_result"
    }
   ],
   "source": [
    "model2 = AgglomerativeClustering(n_clusters= 3, affinity='euclidean', linkage='ward')\n",
    "\n",
    "model2.fit(x_pca)"
   ]
  },
  {
   "cell_type": "code",
   "execution_count": 42,
   "metadata": {},
   "outputs": [],
   "source": [
    "# model = KMeans(n_clusters= 3, n_init= 15, random_state= 0)\n",
    "# model.fit(x_pca)\n",
    "\n",
    "df_labels = pd.DataFrame(model.labels_, columns= list(['labels']) )\n",
    "\n",
    "df_labels['labels'] = df_labels['labels'].astype('category')"
   ]
  },
  {
   "cell_type": "code",
   "execution_count": 43,
   "metadata": {},
   "outputs": [],
   "source": [
    "df_labelled = x_pca.join(df_labels)"
   ]
  },
  {
   "cell_type": "code",
   "execution_count": 67,
   "metadata": {},
   "outputs": [
    {
     "data": {
      "text/html": [
       "<div>\n",
       "<style scoped>\n",
       "    .dataframe tbody tr th:only-of-type {\n",
       "        vertical-align: middle;\n",
       "    }\n",
       "\n",
       "    .dataframe tbody tr th {\n",
       "        vertical-align: top;\n",
       "    }\n",
       "\n",
       "    .dataframe thead th {\n",
       "        text-align: right;\n",
       "    }\n",
       "</style>\n",
       "<table border=\"1\" class=\"dataframe\">\n",
       "  <thead>\n",
       "    <tr style=\"text-align: right;\">\n",
       "      <th></th>\n",
       "      <th>PC1</th>\n",
       "      <th>PC2</th>\n",
       "      <th>PC3</th>\n",
       "      <th>PC4</th>\n",
       "      <th>PC5</th>\n",
       "      <th>PC6</th>\n",
       "      <th>PC7</th>\n",
       "      <th>PC8</th>\n",
       "      <th>PC9</th>\n",
       "      <th>PC10</th>\n",
       "      <th>PC11</th>\n",
       "      <th>PC12</th>\n",
       "      <th>PC13</th>\n",
       "      <th>PC14</th>\n",
       "      <th>labels</th>\n",
       "    </tr>\n",
       "  </thead>\n",
       "  <tbody>\n",
       "    <tr>\n",
       "      <th>0</th>\n",
       "      <td>2.512642</td>\n",
       "      <td>1.942595</td>\n",
       "      <td>-1.182224</td>\n",
       "      <td>-0.862325</td>\n",
       "      <td>-1.523052</td>\n",
       "      <td>0.393501</td>\n",
       "      <td>-0.293962</td>\n",
       "      <td>0.789151</td>\n",
       "      <td>0.951664</td>\n",
       "      <td>0.314512</td>\n",
       "      <td>-0.811723</td>\n",
       "      <td>0.202345</td>\n",
       "      <td>0.054990</td>\n",
       "      <td>-0.117927</td>\n",
       "      <td>1</td>\n",
       "    </tr>\n",
       "    <tr>\n",
       "      <th>1</th>\n",
       "      <td>2.479273</td>\n",
       "      <td>2.882878</td>\n",
       "      <td>0.489908</td>\n",
       "      <td>-0.764699</td>\n",
       "      <td>1.955978</td>\n",
       "      <td>1.333319</td>\n",
       "      <td>1.054194</td>\n",
       "      <td>0.681565</td>\n",
       "      <td>0.565006</td>\n",
       "      <td>-0.882572</td>\n",
       "      <td>-0.327510</td>\n",
       "      <td>0.940775</td>\n",
       "      <td>0.154947</td>\n",
       "      <td>0.270573</td>\n",
       "      <td>1</td>\n",
       "    </tr>\n",
       "    <tr>\n",
       "      <th>2</th>\n",
       "      <td>-0.436376</td>\n",
       "      <td>-0.836255</td>\n",
       "      <td>0.083103</td>\n",
       "      <td>-2.637991</td>\n",
       "      <td>-0.677858</td>\n",
       "      <td>0.194589</td>\n",
       "      <td>1.404263</td>\n",
       "      <td>-0.160906</td>\n",
       "      <td>-0.168962</td>\n",
       "      <td>-0.522996</td>\n",
       "      <td>-0.085287</td>\n",
       "      <td>-0.891258</td>\n",
       "      <td>0.785376</td>\n",
       "      <td>-0.423194</td>\n",
       "      <td>0</td>\n",
       "    </tr>\n",
       "    <tr>\n",
       "      <th>3</th>\n",
       "      <td>-1.857143</td>\n",
       "      <td>0.482554</td>\n",
       "      <td>-1.070123</td>\n",
       "      <td>-0.897334</td>\n",
       "      <td>-1.873537</td>\n",
       "      <td>1.196112</td>\n",
       "      <td>0.887478</td>\n",
       "      <td>0.088842</td>\n",
       "      <td>0.135782</td>\n",
       "      <td>-0.596501</td>\n",
       "      <td>-0.878596</td>\n",
       "      <td>0.175945</td>\n",
       "      <td>-0.108548</td>\n",
       "      <td>-0.329248</td>\n",
       "      <td>2</td>\n",
       "    </tr>\n",
       "    <tr>\n",
       "      <th>4</th>\n",
       "      <td>-0.876257</td>\n",
       "      <td>-3.177492</td>\n",
       "      <td>0.530289</td>\n",
       "      <td>-2.308989</td>\n",
       "      <td>-0.229216</td>\n",
       "      <td>0.618478</td>\n",
       "      <td>0.125378</td>\n",
       "      <td>1.612097</td>\n",
       "      <td>0.093668</td>\n",
       "      <td>0.307894</td>\n",
       "      <td>-0.348292</td>\n",
       "      <td>0.517228</td>\n",
       "      <td>-0.523595</td>\n",
       "      <td>-0.370064</td>\n",
       "      <td>0</td>\n",
       "    </tr>\n",
       "  </tbody>\n",
       "</table>\n",
       "</div>"
      ],
      "text/plain": [
       "        PC1       PC2       PC3       PC4       PC5       PC6       PC7  \\\n",
       "0  2.512642  1.942595 -1.182224 -0.862325 -1.523052  0.393501 -0.293962   \n",
       "1  2.479273  2.882878  0.489908 -0.764699  1.955978  1.333319  1.054194   \n",
       "2 -0.436376 -0.836255  0.083103 -2.637991 -0.677858  0.194589  1.404263   \n",
       "3 -1.857143  0.482554 -1.070123 -0.897334 -1.873537  1.196112  0.887478   \n",
       "4 -0.876257 -3.177492  0.530289 -2.308989 -0.229216  0.618478  0.125378   \n",
       "\n",
       "        PC8       PC9      PC10      PC11      PC12      PC13      PC14 labels  \n",
       "0  0.789151  0.951664  0.314512 -0.811723  0.202345  0.054990 -0.117927      1  \n",
       "1  0.681565  0.565006 -0.882572 -0.327510  0.940775  0.154947  0.270573      1  \n",
       "2 -0.160906 -0.168962 -0.522996 -0.085287 -0.891258  0.785376 -0.423194      0  \n",
       "3  0.088842  0.135782 -0.596501 -0.878596  0.175945 -0.108548 -0.329248      2  \n",
       "4  1.612097  0.093668  0.307894 -0.348292  0.517228 -0.523595 -0.370064      0  "
      ]
     },
     "execution_count": 67,
     "metadata": {},
     "output_type": "execute_result"
    }
   ],
   "source": [
    "df_labelled.head(5)"
   ]
  },
  {
   "cell_type": "code",
   "execution_count": 45,
   "metadata": {
    "scrolled": true
   },
   "outputs": [
    {
     "data": {
      "text/plain": [
       "2    1162\n",
       "0    1108\n",
       "1     777\n",
       "Name: labels, dtype: int64"
      ]
     },
     "execution_count": 45,
     "metadata": {},
     "output_type": "execute_result"
    }
   ],
   "source": [
    "df_labelled['labels'].value_counts()"
   ]
  },
  {
   "cell_type": "code",
   "execution_count": 46,
   "metadata": {},
   "outputs": [],
   "source": [
    "df_clusters = df_labelled.groupby(['labels'])\n",
    "\n",
    "df0 = df_clusters.get_group(0)\n",
    "df1 = df_clusters.get_group(1)\n",
    "df2 = df_clusters.get_group(2)"
   ]
  },
  {
   "cell_type": "code",
   "execution_count": 54,
   "metadata": {},
   "outputs": [],
   "source": [
    "c0 = np.array(df0.mean()) \n",
    "c1 = np.array(df1.mean()) \n",
    "c2 = np.array(df2.mean()) \n",
    "\n",
    "# calculating centroid for each group"
   ]
  },
  {
   "cell_type": "code",
   "execution_count": 55,
   "metadata": {},
   "outputs": [],
   "source": [
    "c0 = c0[:-1]\n",
    "c1 = c1[:-1]\n",
    "c2 = c2[:-1]"
   ]
  },
  {
   "cell_type": "code",
   "execution_count": 51,
   "metadata": {},
   "outputs": [],
   "source": [
    "I0 = 0\n",
    "I1 = 0\n",
    "I2 = 0\n",
    "for i in np.arange(df0.shape[0]):\n",
    "    I0 = I0 + np.sum((df0.iloc[i, :-1] - c0)**2)\n",
    "for i in np.arange(df1.shape[0]):\n",
    "    I1 = I1 + np.sum((df0.iloc[i, :-1] - c1)**2)\n",
    "for i in np.arange(df2.shape[0]):\n",
    "    I2 = I2 + np.sum((df2.iloc[i, :-1] - c2)**2)"
   ]
  },
  {
   "cell_type": "code",
   "execution_count": 52,
   "metadata": {},
   "outputs": [
    {
     "name": "stdout",
     "output_type": "stream",
     "text": [
      "72044.99511584404\n"
     ]
    }
   ],
   "source": [
    "tot_I = I0 + I1 + I2\n",
    "print(tot_I)"
   ]
  },
  {
   "cell_type": "markdown",
   "metadata": {},
   "source": [
    "* Inertia for the agglomerative clustering. It also is very high compard to kmeans clustering."
   ]
  },
  {
   "cell_type": "code",
   "execution_count": null,
   "metadata": {},
   "outputs": [],
   "source": []
  },
  {
   "cell_type": "code",
   "execution_count": 58,
   "metadata": {},
   "outputs": [],
   "source": [
    "# Dendrogram representation of our pca data."
   ]
  },
  {
   "cell_type": "code",
   "execution_count": null,
   "metadata": {},
   "outputs": [],
   "source": [
    "from scipy.cluster.hierarchy import dendrogram, linkage\n",
    "from scipy.spatial.distance import pdist\n",
    "plt.figure(figsize=(18,12))\n",
    "plt.title('Agglomerative hierarchial clustering dcendrogram')\n",
    "plt.xlabel('sample Index')\n",
    "plt.ylabel('Distance')\n",
    "z = linkage(x_pca, 'ward')\n",
    "dendrogram(z, leaf_rotation= 90.0, p =6, color_threshold= 80, leaf_font_size= 10, truncate_mode= 'level')\n",
    "plt.tight_layout()"
   ]
  },
  {
   "cell_type": "markdown",
   "metadata": {},
   "source": [
    "Even using dendrogram we could say that, c_clusters= 2 makes good clustering at the start, but then second cluster can be clearly distinguished into 2. Hence it is 3 clear clusters are visible in our dataset."
   ]
  },
  {
   "cell_type": "code",
   "execution_count": null,
   "metadata": {},
   "outputs": [],
   "source": []
  },
  {
   "cell_type": "markdown",
   "metadata": {},
   "source": [
    "### 5.\tUse the cluster labels from the best method above and interpret the clusters formed. (5 marks)"
   ]
  },
  {
   "cell_type": "markdown",
   "metadata": {},
   "source": [
    "We use n_clusters = 3 and do the clustering of features. Then attach the label t our dataframe."
   ]
  },
  {
   "cell_type": "markdown",
   "metadata": {},
   "source": [
    "* The above dataframe tells us the centroid for all the clusters."
   ]
  },
  {
   "cell_type": "code",
   "execution_count": 63,
   "metadata": {},
   "outputs": [
    {
     "data": {
      "text/plain": [
       "KMeans(n_clusters=3, n_init=15, random_state=0)"
      ]
     },
     "execution_count": 63,
     "metadata": {},
     "output_type": "execute_result"
    }
   ],
   "source": [
    "model_final = KMeans(n_clusters= 3, n_init= 15, random_state= 0)\n",
    "model_final.fit(x_pca)"
   ]
  },
  {
   "cell_type": "code",
   "execution_count": 64,
   "metadata": {},
   "outputs": [],
   "source": [
    "labels = model.predict(x_pca)"
   ]
  },
  {
   "cell_type": "code",
   "execution_count": 66,
   "metadata": {},
   "outputs": [
    {
     "data": {
      "text/html": [
       "<div>\n",
       "<style scoped>\n",
       "    .dataframe tbody tr th:only-of-type {\n",
       "        vertical-align: middle;\n",
       "    }\n",
       "\n",
       "    .dataframe tbody tr th {\n",
       "        vertical-align: top;\n",
       "    }\n",
       "\n",
       "    .dataframe thead th {\n",
       "        text-align: right;\n",
       "    }\n",
       "</style>\n",
       "<table border=\"1\" class=\"dataframe\">\n",
       "  <thead>\n",
       "    <tr style=\"text-align: right;\">\n",
       "      <th></th>\n",
       "      <th>PC1</th>\n",
       "      <th>PC2</th>\n",
       "      <th>PC3</th>\n",
       "      <th>PC4</th>\n",
       "      <th>PC5</th>\n",
       "      <th>PC6</th>\n",
       "      <th>PC7</th>\n",
       "      <th>PC8</th>\n",
       "      <th>PC9</th>\n",
       "      <th>PC10</th>\n",
       "      <th>PC11</th>\n",
       "      <th>PC12</th>\n",
       "      <th>PC13</th>\n",
       "      <th>PC14</th>\n",
       "      <th>Group</th>\n",
       "    </tr>\n",
       "  </thead>\n",
       "  <tbody>\n",
       "    <tr>\n",
       "      <th>0</th>\n",
       "      <td>2.512642</td>\n",
       "      <td>1.942595</td>\n",
       "      <td>-1.182224</td>\n",
       "      <td>-0.862325</td>\n",
       "      <td>-1.523052</td>\n",
       "      <td>0.393501</td>\n",
       "      <td>-0.293962</td>\n",
       "      <td>0.789151</td>\n",
       "      <td>0.951664</td>\n",
       "      <td>0.314512</td>\n",
       "      <td>-0.811723</td>\n",
       "      <td>0.202345</td>\n",
       "      <td>0.054990</td>\n",
       "      <td>-0.117927</td>\n",
       "      <td>1</td>\n",
       "    </tr>\n",
       "    <tr>\n",
       "      <th>1</th>\n",
       "      <td>2.479273</td>\n",
       "      <td>2.882878</td>\n",
       "      <td>0.489908</td>\n",
       "      <td>-0.764699</td>\n",
       "      <td>1.955978</td>\n",
       "      <td>1.333319</td>\n",
       "      <td>1.054194</td>\n",
       "      <td>0.681565</td>\n",
       "      <td>0.565006</td>\n",
       "      <td>-0.882572</td>\n",
       "      <td>-0.327510</td>\n",
       "      <td>0.940775</td>\n",
       "      <td>0.154947</td>\n",
       "      <td>0.270573</td>\n",
       "      <td>1</td>\n",
       "    </tr>\n",
       "    <tr>\n",
       "      <th>2</th>\n",
       "      <td>-0.436376</td>\n",
       "      <td>-0.836255</td>\n",
       "      <td>0.083103</td>\n",
       "      <td>-2.637991</td>\n",
       "      <td>-0.677858</td>\n",
       "      <td>0.194589</td>\n",
       "      <td>1.404263</td>\n",
       "      <td>-0.160906</td>\n",
       "      <td>-0.168962</td>\n",
       "      <td>-0.522996</td>\n",
       "      <td>-0.085287</td>\n",
       "      <td>-0.891258</td>\n",
       "      <td>0.785376</td>\n",
       "      <td>-0.423194</td>\n",
       "      <td>0</td>\n",
       "    </tr>\n",
       "  </tbody>\n",
       "</table>\n",
       "</div>"
      ],
      "text/plain": [
       "        PC1       PC2       PC3       PC4       PC5       PC6       PC7  \\\n",
       "0  2.512642  1.942595 -1.182224 -0.862325 -1.523052  0.393501 -0.293962   \n",
       "1  2.479273  2.882878  0.489908 -0.764699  1.955978  1.333319  1.054194   \n",
       "2 -0.436376 -0.836255  0.083103 -2.637991 -0.677858  0.194589  1.404263   \n",
       "\n",
       "        PC8       PC9      PC10      PC11      PC12      PC13      PC14  Group  \n",
       "0  0.789151  0.951664  0.314512 -0.811723  0.202345  0.054990 -0.117927      1  \n",
       "1  0.681565  0.565006 -0.882572 -0.327510  0.940775  0.154947  0.270573      1  \n",
       "2 -0.160906 -0.168962 -0.522996 -0.085287 -0.891258  0.785376 -0.423194      0  "
      ]
     },
     "execution_count": 66,
     "metadata": {},
     "output_type": "execute_result"
    }
   ],
   "source": [
    "df_new = pd.DataFrame(x_pca, columns= x_pca.columns)\n",
    "df_new['Group'] = labels\n",
    "df_new.head(3)"
   ]
  },
  {
   "cell_type": "code",
   "execution_count": null,
   "metadata": {},
   "outputs": [],
   "source": [
    "sns.pairplot(df_new, hue='Group', diag_kind='kde')\n",
    "plt.show()"
   ]
  },
  {
   "cell_type": "code",
   "execution_count": null,
   "metadata": {},
   "outputs": [],
   "source": []
  },
  {
   "cell_type": "markdown",
   "metadata": {},
   "source": [
    "* We can clearly see the clustering of datapoints in our plot. Three different colors represent three different clusters."
   ]
  },
  {
   "cell_type": "code",
   "execution_count": null,
   "metadata": {},
   "outputs": [],
   "source": []
  },
  {
   "cell_type": "markdown",
   "metadata": {},
   "source": [
    "### 6.\tSummarize as follows (10 marks)\n",
    "\n",
    "a.\tSummarize the overall fit of the model. Compare all the clustering models built and list down the measures to prove that it is a good model.\n",
    "\n",
    "b.\tWrite down a business interpretation/explanation of the model. (List the countries to be focused on).\n",
    "\n",
    "c.\tWhat are the key risks to your results and interpretation?\n"
   ]
  },
  {
   "cell_type": "markdown",
   "metadata": {},
   "source": [
    "* we tradeoff between KMeans n_clusters 2 and 3. We found that KMeans 3 clusters is better than 2 clusters.\n",
    "* We then built an agglomerative clustering of 3 cluster, but found that the inertia of that model is very high compared to KMeans 3 cluster model."
   ]
  },
  {
   "cell_type": "markdown",
   "metadata": {},
   "source": [
    "* Above we have assigned all the datapoints to any of the three clusters and saw how well it clustered."
   ]
  },
  {
   "cell_type": "code",
   "execution_count": 69,
   "metadata": {},
   "outputs": [
    {
     "data": {
      "text/plain": [
       "KMeans(n_clusters=3, n_init=15, random_state=0)"
      ]
     },
     "execution_count": 69,
     "metadata": {},
     "output_type": "execute_result"
    }
   ],
   "source": [
    "model = KMeans(n_clusters= 3, n_init= 15, random_state= 0)\n",
    "model.fit(x_pca)"
   ]
  },
  {
   "cell_type": "code",
   "execution_count": 70,
   "metadata": {},
   "outputs": [],
   "source": [
    "centroids = model.cluster_centers_"
   ]
  },
  {
   "cell_type": "code",
   "execution_count": 71,
   "metadata": {},
   "outputs": [
    {
     "data": {
      "text/html": [
       "<div>\n",
       "<style scoped>\n",
       "    .dataframe tbody tr th:only-of-type {\n",
       "        vertical-align: middle;\n",
       "    }\n",
       "\n",
       "    .dataframe tbody tr th {\n",
       "        vertical-align: top;\n",
       "    }\n",
       "\n",
       "    .dataframe thead th {\n",
       "        text-align: right;\n",
       "    }\n",
       "</style>\n",
       "<table border=\"1\" class=\"dataframe\">\n",
       "  <thead>\n",
       "    <tr style=\"text-align: right;\">\n",
       "      <th></th>\n",
       "      <th>PC1</th>\n",
       "      <th>PC2</th>\n",
       "      <th>PC3</th>\n",
       "      <th>PC4</th>\n",
       "      <th>PC5</th>\n",
       "      <th>PC6</th>\n",
       "      <th>PC7</th>\n",
       "      <th>PC8</th>\n",
       "      <th>PC9</th>\n",
       "      <th>PC10</th>\n",
       "      <th>PC11</th>\n",
       "      <th>PC12</th>\n",
       "      <th>PC13</th>\n",
       "      <th>PC14</th>\n",
       "      <th>Group</th>\n",
       "    </tr>\n",
       "  </thead>\n",
       "  <tbody>\n",
       "    <tr>\n",
       "      <th>0</th>\n",
       "      <td>1.126871</td>\n",
       "      <td>-2.058247</td>\n",
       "      <td>0.147049</td>\n",
       "      <td>0.110771</td>\n",
       "      <td>0.109352</td>\n",
       "      <td>0.027083</td>\n",
       "      <td>-0.084822</td>\n",
       "      <td>0.008271</td>\n",
       "      <td>-0.037588</td>\n",
       "      <td>-0.066176</td>\n",
       "      <td>0.066630</td>\n",
       "      <td>-0.046475</td>\n",
       "      <td>-0.062452</td>\n",
       "      <td>0.037634</td>\n",
       "      <td>-1.776357e-15</td>\n",
       "    </tr>\n",
       "    <tr>\n",
       "      <th>1</th>\n",
       "      <td>2.729229</td>\n",
       "      <td>2.383041</td>\n",
       "      <td>-0.320137</td>\n",
       "      <td>-0.119333</td>\n",
       "      <td>-0.045243</td>\n",
       "      <td>0.092788</td>\n",
       "      <td>0.077002</td>\n",
       "      <td>0.064602</td>\n",
       "      <td>0.021670</td>\n",
       "      <td>0.028388</td>\n",
       "      <td>-0.102643</td>\n",
       "      <td>0.011586</td>\n",
       "      <td>0.017708</td>\n",
       "      <td>-0.041514</td>\n",
       "      <td>1.000000e+00</td>\n",
       "    </tr>\n",
       "    <tr>\n",
       "      <th>2</th>\n",
       "      <td>-2.899470</td>\n",
       "      <td>0.369118</td>\n",
       "      <td>0.073852</td>\n",
       "      <td>-0.025829</td>\n",
       "      <td>-0.074018</td>\n",
       "      <td>-0.087870</td>\n",
       "      <td>0.029391</td>\n",
       "      <td>-0.051084</td>\n",
       "      <td>0.021351</td>\n",
       "      <td>0.044118</td>\n",
       "      <td>0.005102</td>\n",
       "      <td>0.036568</td>\n",
       "      <td>0.047708</td>\n",
       "      <td>-0.008126</td>\n",
       "      <td>2.000000e+00</td>\n",
       "    </tr>\n",
       "  </tbody>\n",
       "</table>\n",
       "</div>"
      ],
      "text/plain": [
       "        PC1       PC2       PC3       PC4       PC5       PC6       PC7  \\\n",
       "0  1.126871 -2.058247  0.147049  0.110771  0.109352  0.027083 -0.084822   \n",
       "1  2.729229  2.383041 -0.320137 -0.119333 -0.045243  0.092788  0.077002   \n",
       "2 -2.899470  0.369118  0.073852 -0.025829 -0.074018 -0.087870  0.029391   \n",
       "\n",
       "        PC8       PC9      PC10      PC11      PC12      PC13      PC14  \\\n",
       "0  0.008271 -0.037588 -0.066176  0.066630 -0.046475 -0.062452  0.037634   \n",
       "1  0.064602  0.021670  0.028388 -0.102643  0.011586  0.017708 -0.041514   \n",
       "2 -0.051084  0.021351  0.044118  0.005102  0.036568  0.047708 -0.008126   \n",
       "\n",
       "          Group  \n",
       "0 -1.776357e-15  \n",
       "1  1.000000e+00  \n",
       "2  2.000000e+00  "
      ]
     },
     "execution_count": 71,
     "metadata": {},
     "output_type": "execute_result"
    }
   ],
   "source": [
    "centroids_df = pd.DataFrame(centroids, columns = list(x_pca))\n",
    "centroids_df"
   ]
  },
  {
   "cell_type": "markdown",
   "metadata": {},
   "source": [
    "* These are the centroids for every PCA component. \n",
    "\n",
    "* On passing new datapoint in production, it will undergo all the transformations we have done. Then it will check the pca_component values. It will be allocated to that cluster that is very close to that datapoint."
   ]
  },
  {
   "cell_type": "code",
   "execution_count": null,
   "metadata": {},
   "outputs": [],
   "source": []
  },
  {
   "cell_type": "code",
   "execution_count": 74,
   "metadata": {
    "scrolled": true
   },
   "outputs": [
    {
     "data": {
      "image/png": "[encoded data removed]",
      "text/plain": [
       "<Figure size 2160x1080 with 25 Axes>"
      ]
     },
     "metadata": {
      "needs_background": "light"
     },
     "output_type": "display_data"
    }
   ],
   "source": [
    "import matplotlib.pyplot as plt\n",
    "\n",
    "df_new.boxplot(by= 'Group', layout=(5,5), figsize=(30,15))\n",
    "plt.show()"
   ]
  },
  {
   "cell_type": "markdown",
   "metadata": {},
   "source": [
    "* We see a cler segregation among the clusters on clustering."
   ]
  },
  {
   "cell_type": "code",
   "execution_count": null,
   "metadata": {},
   "outputs": [],
   "source": []
  }
 ],
 "metadata": {
  "kernelspec": {
   "display_name": "Python 3",
   "language": "python",
   "name": "python3"
  },
  "language_info": {
   "codemirror_mode": {
    "name": "ipython",
    "version": 3
   },
   "file_extension": ".py",
   "mimetype": "text/x-python",
   "name": "python",
   "nbconvert_exporter": "python",
   "pygments_lexer": "ipython3",
   "version": "3.7.3"
  }
 },
 "nbformat": 4,
 "nbformat_minor": 1
}
